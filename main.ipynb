{
 "cells": [
  {
   "cell_type": "markdown",
   "metadata": {},
   "source": [
    "Table RAS45003 Reported road casualties by severity (estimates): Great Britain, quarterly and annual"
   ]
  },
  {
   "cell_type": "code",
   "execution_count": null,
   "metadata": {},
   "outputs": [],
   "source": [
    "from gssutils import *\n",
    "\n",
    "scraper = Scraper('https://www.gov.uk/government/statistical-data-sets/ras45-quarterly-statistics')\n",
    "scraper"
   ]
  },
  {
   "cell_type": "code",
   "execution_count": null,
   "metadata": {},
   "outputs": [],
   "source": [
    "df = scraper.distribution(\n",
    "    title='Reported road casualties by severity (estimates): Great Britain, quarterly and annual'\n",
    ").as_pandas(sheet_name='ras45003', start_row = 6,\n",
    "            row_limit = 30, start_column = 0, column_limit = 7)\n",
    "observations = df.rename(columns=df.iloc[0]).drop(df.index[0])\n",
    "observations"
   ]
  },
  {
   "cell_type": "code",
   "execution_count": null,
   "metadata": {
    "collapsed": true
   },
   "outputs": [],
   "source": [
    "observations.columns.values[0] = 'Year'\n",
    "observations.columns.values[1] = 'Quarter'\n",
    "observations.columns.values[2] = 'killed'\n",
    "observations.columns.values[3] = 'ksi'\n",
    "observations.columns.values[4] = 'slightly-injured'\n",
    "observations.columns.values[5] = 'total'\n",
    "observations.columns.values[6] = 'motor-traffic'"
   ]
  },
  {
   "cell_type": "code",
   "execution_count": null,
   "metadata": {
    "collapsed": true
   },
   "outputs": [],
   "source": [
    "new_table = pd.melt(observations,\n",
    "                       ['Year','Quarter'], var_name=\"Severity\",\n",
    "                       value_name=\"Value\")"
   ]
  },
  {
   "cell_type": "code",
   "execution_count": null,
   "metadata": {
    "collapsed": true
   },
   "outputs": [],
   "source": [
    "def user_perc(x):\n",
    "    \n",
    "    if str(x) == '2010-2014 average':\n",
    "        return 'Average Count'\n",
    "    else:\n",
    "        return 'Count'\n",
    "    \n",
    "new_table['Measure Type'] = new_table.apply(lambda row: user_perc(row['Year']), axis = 1)"
   ]
  },
  {
   "cell_type": "code",
   "execution_count": null,
   "metadata": {
    "collapsed": true
   },
   "outputs": [],
   "source": [
    "def user_perc(x):\n",
    "    \n",
    "    if (str(x) == 'Q1(P)') | (str(x) == 'Q2(P)') :\n",
    "        return 'Provisional'\n",
    "    else:\n",
    "        return 'Original Value'\n",
    "    \n",
    "new_table['Revision'] = new_table.apply(lambda row: user_perc(row['Quarter']), axis = 1)"
   ]
  },
  {
   "cell_type": "code",
   "execution_count": null,
   "metadata": {
    "collapsed": true
   },
   "outputs": [],
   "source": [
    "new_table.Year = new_table.Year[new_table.Year.str.strip() != '']"
   ]
  },
  {
   "cell_type": "code",
   "execution_count": null,
   "metadata": {
    "collapsed": true
   },
   "outputs": [],
   "source": [
    "new_table.Year = new_table.Year.ffill()"
   ]
  },
  {
   "cell_type": "code",
   "execution_count": null,
   "metadata": {
    "collapsed": true
   },
   "outputs": [],
   "source": [
    "new_table['Quarter'] = new_table['Quarter'].str.rstrip('(P)')"
   ]
  },
  {
   "cell_type": "code",
   "execution_count": null,
   "metadata": {
    "collapsed": true
   },
   "outputs": [],
   "source": [
    "new_table['Year'] = new_table['Year'].map(str)\n",
    "new_table['Quarter'] = new_table['Quarter'].map(str)\n",
    "def user_perc(x,y):    \n",
    "    if x.strip() == '':\n",
    "        return 'year/'+ y\n",
    "    else:\n",
    "        return 'quarter/'+ y +'-'+ x        \n",
    "    \n",
    "new_table['Period'] = new_table.apply(lambda row: user_perc(row['Quarter'], row['Year']), axis = 1)"
   ]
  },
  {
   "cell_type": "code",
   "execution_count": null,
   "metadata": {
    "collapsed": true
   },
   "outputs": [],
   "source": [
    "new_table['Unit'] = 'casualties'"
   ]
  },
  {
   "cell_type": "code",
   "execution_count": null,
   "metadata": {
    "collapsed": true
   },
   "outputs": [],
   "source": [
    "new_table['Period'] = new_table['Period'].map(\n",
    "    lambda x: {\n",
    "        'year/2010-2014 average' : 'gregorian-interval/2010-01-01T00:00:00/P4Y'\n",
    "        }.get(x, x))"
   ]
  },
  {
   "cell_type": "code",
   "execution_count": null,
   "metadata": {
    "collapsed": true
   },
   "outputs": [],
   "source": [
    "new_table = new_table[['Period','Severity','Measure Type','Value','Unit','Revision']]"
   ]
  },
  {
   "cell_type": "code",
   "execution_count": null,
   "metadata": {
    "collapsed": true
   },
   "outputs": [],
   "source": [
    "from pathlib import Path\n",
    "\n",
    "out = Path('out')\n",
    "out.mkdir(exist_ok=True, parents=True)\n",
    "\n",
    "new_table.to_csv(out / 'observations.csv', index = False)"
   ]
  },
  {
   "cell_type": "code",
   "execution_count": null,
   "metadata": {},
   "outputs": [],
   "source": [
    "scraper.dataset.family = 'health'\n",
    "scraper.dataset.theme = THEME['health-social-care']\n",
    "with open(out / 'dataset.trig', 'wb') as metadata:\n",
    "    metadata.write(scraper.generate_trig())"
   ]
  },
  {
   "cell_type": "code",
   "execution_count": null,
   "metadata": {},
   "outputs": [],
   "source": [
    "new_table"
   ]
  },
  {
   "cell_type": "code",
   "execution_count": null,
   "metadata": {
    "collapsed": true
   },
   "outputs": [],
   "source": []
  }
 ],
 "metadata": {
  "kernelspec": {
   "display_name": "Python 3",
   "language": "python",
   "name": "python3"
  },
  "language_info": {
   "codemirror_mode": {
    "name": "ipython",
    "version": 3
   },
   "file_extension": ".py",
   "mimetype": "text/x-python",
   "name": "python",
   "nbconvert_exporter": "python",
   "pygments_lexer": "ipython3",
   "version": "3.6.3"
  }
 },
 "nbformat": 4,
 "nbformat_minor": 2
}
